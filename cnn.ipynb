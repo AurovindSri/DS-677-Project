{
 "cells": [
  {
   "cell_type": "code",
   "execution_count": 2,
   "metadata": {},
   "outputs": [
    {
     "name": "stdout",
     "output_type": "stream",
     "text": [
      "Running experiment with params: {'batch_size': 64, 'learning_rate': 0.001, 'num_epochs': 10}\n"
     ]
    },
    {
     "name": "stderr",
     "output_type": "stream",
     "text": [
      "0.1%"
     ]
    },
    {
     "name": "stdout",
     "output_type": "stream",
     "text": [
      "Downloading https://www.cs.toronto.edu/~kriz/cifar-10-python.tar.gz to ./data\\cifar-10-python.tar.gz\n"
     ]
    },
    {
     "name": "stderr",
     "output_type": "stream",
     "text": [
      "100.0%\n"
     ]
    },
    {
     "name": "stdout",
     "output_type": "stream",
     "text": [
      "Extracting ./data\\cifar-10-python.tar.gz to ./data\n",
      "Files already downloaded and verified\n",
      "Epoch 1/10, Train Loss: 1.3171, Train Acc: 52.51%, Test Loss: 1.0623, Test Acc: 62.37%\n",
      "Epoch 2/10, Train Loss: 0.9384, Train Acc: 66.65%, Test Loss: 0.9015, Test Acc: 68.50%\n",
      "Epoch 3/10, Train Loss: 0.7651, Train Acc: 73.08%, Test Loss: 0.8198, Test Acc: 71.55%\n",
      "Epoch 4/10, Train Loss: 0.6253, Train Acc: 78.10%, Test Loss: 0.8118, Test Acc: 72.27%\n",
      "Epoch 5/10, Train Loss: 0.4963, Train Acc: 82.66%, Test Loss: 0.8191, Test Acc: 73.40%\n",
      "Epoch 6/10, Train Loss: 0.3819, Train Acc: 86.56%, Test Loss: 0.8627, Test Acc: 72.84%\n",
      "Epoch 7/10, Train Loss: 0.2749, Train Acc: 90.65%, Test Loss: 0.9570, Test Acc: 73.29%\n",
      "Epoch 8/10, Train Loss: 0.1946, Train Acc: 93.31%, Test Loss: 1.1124, Test Acc: 72.33%\n",
      "Epoch 9/10, Train Loss: 0.1355, Train Acc: 95.41%, Test Loss: 1.3744, Test Acc: 71.00%\n",
      "Epoch 10/10, Train Loss: 0.1081, Train Acc: 96.32%, Test Loss: 1.4060, Test Acc: 71.43%\n"
     ]
    },
    {
     "name": "stderr",
     "output_type": "stream",
     "text": [
      "2024/11/23 16:27:02 WARNING mlflow.models.model: Model logged without a signature and input example. Please set `input_example` parameter when logging the model to auto infer the model signature.\n"
     ]
    },
    {
     "name": "stdout",
     "output_type": "stream",
     "text": [
      "Model logged in MLflow.\n",
      "Running experiment with params: {'batch_size': 128, 'learning_rate': 0.0005, 'num_epochs': 10}\n",
      "Files already downloaded and verified\n",
      "Files already downloaded and verified\n",
      "Epoch 1/10, Train Loss: 1.4895, Train Acc: 47.06%, Test Loss: 1.2274, Test Acc: 56.23%\n",
      "Epoch 2/10, Train Loss: 1.1439, Train Acc: 59.81%, Test Loss: 1.0996, Test Acc: 61.31%\n",
      "Epoch 3/10, Train Loss: 1.0050, Train Acc: 64.88%, Test Loss: 1.0025, Test Acc: 65.20%\n",
      "Epoch 4/10, Train Loss: 0.8971, Train Acc: 68.72%, Test Loss: 0.9141, Test Acc: 67.85%\n",
      "Epoch 5/10, Train Loss: 0.8166, Train Acc: 71.63%, Test Loss: 0.8791, Test Acc: 69.12%\n",
      "Epoch 6/10, Train Loss: 0.7360, Train Acc: 74.58%, Test Loss: 0.8832, Test Acc: 69.39%\n",
      "Epoch 7/10, Train Loss: 0.6684, Train Acc: 76.91%, Test Loss: 0.8576, Test Acc: 70.47%\n",
      "Epoch 8/10, Train Loss: 0.6023, Train Acc: 79.33%, Test Loss: 0.8409, Test Acc: 71.33%\n",
      "Epoch 9/10, Train Loss: 0.5379, Train Acc: 81.58%, Test Loss: 0.8571, Test Acc: 71.23%\n",
      "Epoch 10/10, Train Loss: 0.4752, Train Acc: 83.63%, Test Loss: 0.8758, Test Acc: 71.21%\n"
     ]
    },
    {
     "name": "stderr",
     "output_type": "stream",
     "text": [
      "2024/11/23 16:44:06 WARNING mlflow.models.model: Model logged without a signature and input example. Please set `input_example` parameter when logging the model to auto infer the model signature.\n"
     ]
    },
    {
     "name": "stdout",
     "output_type": "stream",
     "text": [
      "Model logged in MLflow.\n"
     ]
    }
   ],
   "source": [
    "import torch\n",
    "import torch.nn as nn\n",
    "import torch.optim as optim\n",
    "from torchvision import datasets, transforms\n",
    "from torch.utils.data import DataLoader\n",
    "import mlflow\n",
    "import mlflow.pytorch\n",
    "from mlflow.exceptions import MlflowException\n",
    "\n",
    "# Define the CNN model\n",
    "class CNNModel(nn.Module):\n",
    "    def __init__(self):\n",
    "        super(CNNModel, self).__init__()\n",
    "        self.conv_layers = nn.Sequential(\n",
    "            nn.Conv2d(3, 32, kernel_size=3, padding=1),\n",
    "            nn.ReLU(),\n",
    "            nn.MaxPool2d(2, 2),\n",
    "            nn.Conv2d(32, 64, kernel_size=3, padding=1),\n",
    "            nn.ReLU(),\n",
    "            nn.MaxPool2d(2, 2)\n",
    "        )\n",
    "        self.fc_layers = nn.Sequential(\n",
    "            nn.Flatten(),\n",
    "            nn.Linear(64 * 8 * 8, 256),\n",
    "            nn.ReLU(),\n",
    "            nn.Linear(256, 10)\n",
    "        )\n",
    "\n",
    "    def forward(self, x):\n",
    "        x = self.conv_layers(x)\n",
    "        x = self.fc_layers(x)\n",
    "        return x\n",
    "\n",
    "# Load CIFAR-10 Dataset\n",
    "def load_data(batch_size):\n",
    "    transform = transforms.Compose([\n",
    "        transforms.ToTensor(),\n",
    "        transforms.Normalize((0.5, 0.5, 0.5), (0.5, 0.5, 0.5))\n",
    "    ])\n",
    "    train_dataset = datasets.CIFAR10(root='./data', train=True, transform=transform, download=True)\n",
    "    test_dataset = datasets.CIFAR10(root='./data', train=False, transform=transform, download=True)\n",
    "    train_loader = DataLoader(train_dataset, batch_size=batch_size, shuffle=True)\n",
    "    test_loader = DataLoader(test_dataset, batch_size=batch_size, shuffle=False)\n",
    "    return train_loader, test_loader\n",
    "\n",
    "# Train the model\n",
    "def train_model(model, train_loader, criterion, optimizer, device):\n",
    "    model.train()\n",
    "    total_loss = 0\n",
    "    correct = 0\n",
    "    total = 0\n",
    "    for images, labels in train_loader:\n",
    "        images, labels = images.to(device), labels.to(device)\n",
    "        optimizer.zero_grad()\n",
    "        outputs = model(images)\n",
    "        loss = criterion(outputs, labels)\n",
    "        loss.backward()\n",
    "        optimizer.step()\n",
    "        total_loss += loss.item()\n",
    "        _, predicted = torch.max(outputs.data, 1)\n",
    "        total += labels.size(0)\n",
    "        correct += (predicted == labels).sum().item()\n",
    "    return total_loss / len(train_loader), 100 * correct / total\n",
    "\n",
    "# Evaluate the model\n",
    "def evaluate_model(model, test_loader, criterion, device):\n",
    "    model.eval()\n",
    "    total_loss = 0\n",
    "    correct = 0\n",
    "    total = 0\n",
    "    with torch.no_grad():\n",
    "        for images, labels in test_loader:\n",
    "            images, labels = images.to(device), labels.to(device)\n",
    "            outputs = model(images)\n",
    "            loss = criterion(outputs, labels)\n",
    "            total_loss += loss.item()\n",
    "            _, predicted = torch.max(outputs.data, 1)\n",
    "            total += labels.size(0)\n",
    "            correct += (predicted == labels).sum().item()\n",
    "    return total_loss / len(test_loader), 100 * correct / total\n",
    "\n",
    "# Hyperparameter tuning and MLflow logging\n",
    "def run_experiment(batch_size, learning_rate, num_epochs, device):\n",
    "    train_loader, test_loader = load_data(batch_size)\n",
    "    model = CNNModel().to(device)\n",
    "    criterion = nn.CrossEntropyLoss()\n",
    "    optimizer = optim.Adam(model.parameters(), lr=learning_rate)\n",
    "\n",
    "    with mlflow.start_run():\n",
    "        mlflow.log_param(\"batch_size\", batch_size)\n",
    "        mlflow.log_param(\"learning_rate\", learning_rate)\n",
    "        mlflow.log_param(\"num_epochs\", num_epochs)\n",
    "\n",
    "        for epoch in range(num_epochs):\n",
    "            train_loss, train_acc = train_model(model, train_loader, criterion, optimizer, device)\n",
    "            test_loss, test_acc = evaluate_model(model, test_loader, criterion, device)\n",
    "            print(f\"Epoch {epoch + 1}/{num_epochs}, \"\n",
    "                  f\"Train Loss: {train_loss:.4f}, Train Acc: {train_acc:.2f}%, \"\n",
    "                  f\"Test Loss: {test_loss:.4f}, Test Acc: {test_acc:.2f}%\")\n",
    "\n",
    "            mlflow.log_metric(\"train_loss\", train_loss, step=epoch)\n",
    "            mlflow.log_metric(\"train_acc\", train_acc, step=epoch)\n",
    "            mlflow.log_metric(\"test_loss\", test_loss, step=epoch)\n",
    "            mlflow.log_metric(\"test_acc\", test_acc, step=epoch)\n",
    "\n",
    "        # Log the final model\n",
    "        mlflow.pytorch.log_model(model, \"cnn_model\")\n",
    "        print(\"Model logged in MLflow.\")\n",
    "\n",
    "# Main execution\n",
    "if __name__ == \"__main__\":\n",
    "    device = torch.device(\"cuda\" if torch.cuda.is_available() else \"cpu\")\n",
    "    hyperparams = [\n",
    "        {\"batch_size\": 64, \"learning_rate\": 0.001, \"num_epochs\": 10},\n",
    "        {\"batch_size\": 128, \"learning_rate\": 0.0005, \"num_epochs\": 10}\n",
    "    ]\n",
    "\n",
    "    for params in hyperparams:\n",
    "        print(f\"Running experiment with params: {params}\")\n",
    "        run_experiment(params[\"batch_size\"], params[\"learning_rate\"], params[\"num_epochs\"], device)\n"
   ]
  }
 ],
 "metadata": {
  "kernelspec": {
   "display_name": ".venv",
   "language": "python",
   "name": "python3"
  },
  "language_info": {
   "codemirror_mode": {
    "name": "ipython",
    "version": 3
   },
   "file_extension": ".py",
   "mimetype": "text/x-python",
   "name": "python",
   "nbconvert_exporter": "python",
   "pygments_lexer": "ipython3",
   "version": "3.12.7"
  }
 },
 "nbformat": 4,
 "nbformat_minor": 2
}
